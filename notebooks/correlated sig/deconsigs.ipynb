{
 "cells": [
  {
   "cell_type": "code",
   "execution_count": null,
   "metadata": {},
   "outputs": [],
   "source": [
    "from mutagene.profiles import Sample\n",
    "from mutagene.signatures import Identify\n",
    "import json\n",
    "import numpy as np\n",
    "from glob import glob\n",
    "from subprocess import Popen, PIPE"
   ]
  },
  {
   "cell_type": "code",
   "execution_count": null,
   "metadata": {},
   "outputs": [],
   "source": [
    "def get_sub_seq():\n",
    "    seq = []\n",
    "    for p5 in \"ACGT\":\n",
    "        for p3 in \"ACGT\":\n",
    "            for x,y in [('C','A'),('C','G'),('C','T'),('T','A'),('T','C'),('T','G')]:\n",
    "                seq.append(f\"{p5}[{x}>{y}]{p3}\")\n",
    "    return seq\n",
    "\n",
    "def deconstruct_sigs(profile):\n",
    "    script1 = \"\"\"\n",
    "library(jsonlite)\n",
    "library(deconstructSigs)\n",
    "s <- data.frame(t(data.frame(sample=c{})))\n",
    "colnames(s) <- c{}\n",
    "w <- whichSignatures(\n",
    "    tumor.ref = s / sum(s),\n",
    "    sample.id = 'sample',\n",
    "    signatures.ref=signatures.cosmic,\n",
    "    signature.cutoff=0.00)\n",
    "toJSON(w)\n",
    "\"\"\"\n",
    "    script2 = script1.format(tuple(profile), tuple(get_sub_seq())).encode(\"utf-8\")\n",
    "\n",
    "    proc = Popen([\"Rscript\", \"-\"], stdin=PIPE, stdout=PIPE, stderr=PIPE)\n",
    "    out, err = proc.communicate(script2, timeout=10)\n",
    "    exitcode = proc.returncode\n",
    "    if exitcode:\n",
    "        print(\"Exit code:\", exitcode, \"Out:\", out.decode(\"utf-8\"), \"Error:\", err.decode(\"utf-8\"), sep=\"\\n\\n\")\n",
    "        raise Exception(\"R error\")\n",
    "    json_string = out.decode(\"utf-8\")\n",
    "    w = json.loads(json_string)\n",
    "    # import pprint\n",
    "    # pprint.pprint(w)\n",
    "    result = []\n",
    "    for k, v in w['weights'][0].items():\n",
    "        if k.startswith('_row'):\n",
    "            continue\n",
    "        # if float(v) == 0.0:\n",
    "        #     continue\n",
    "        name = k.replace('Signature.', '')\n",
    "        result.append({\n",
    "            'name': name,\n",
    "            'score': v})\n",
    "    return result"
   ]
  },
  {
   "cell_type": "code",
   "execution_count": null,
   "metadata": {},
   "outputs": [],
   "source": [
    "# Find sample files\n",
    "sample_files = glob('samples/*/data_mutations_mskcc.txt')\n",
    "list(enumerate(sample_files))"
   ]
  },
  {
   "cell_type": "code",
   "execution_count": null,
   "metadata": {},
   "outputs": [],
   "source": [
    "# Get samples from multisample file\n",
    "samples = Sample.multisample(sample_files[14], 'samples/hg19.2bit')"
   ]
  },
  {
   "cell_type": "code",
   "execution_count": null,
   "metadata": {},
   "outputs": [],
   "source": [
    "profs = [s.profile for s in samples]\n",
    "sel_prof = max(samples, key=lambda s: s.profile)\n",
    "samples.index(sel_prof)"
   ]
  },
  {
   "cell_type": "code",
   "execution_count": null,
   "metadata": {},
   "outputs": [],
   "source": [
    "sample_id = 6\n",
    "print(\"PROFILE\")\n",
    "samples[sample_id].plot_profile()\n",
    "print(\"MUTATION COUNT:\", sum(samples[sample_id].profile))\n",
    "print(\"MUTAGENE DECONSTRUCTION\")\n",
    "Identify(samples[sample_id].profile, 30, bootstrap=True).write_results()\n",
    "print(\"DECONSTRUCTSIGS DECONSTRUCTION\")\n",
    "deconstruct_sigs(samples[sample_id].profile)"
   ]
  }
 ],
 "metadata": {
  "kernelspec": {
   "display_name": "Python 3",
   "language": "python",
   "name": "python3"
  },
  "language_info": {
   "codemirror_mode": {
    "name": "ipython",
    "version": 3
   },
   "file_extension": ".py",
   "mimetype": "text/x-python",
   "name": "python",
   "nbconvert_exporter": "python",
   "pygments_lexer": "ipython3",
   "version": "3.6.8"
  }
 },
 "nbformat": 4,
 "nbformat_minor": 4
}
