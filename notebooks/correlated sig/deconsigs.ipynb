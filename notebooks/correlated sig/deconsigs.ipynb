{
 "cells": [
  {
   "cell_type": "code",
   "execution_count": 1,
   "metadata": {},
   "outputs": [],
   "source": [
    "from mutagene.profiles import Sample\n",
    "from mutagene.signatures import Identify\n",
    "import json\n",
    "import numpy as np\n",
    "from glob import glob\n",
    "from subprocess import Popen, PIPE"
   ]
  },
  {
   "cell_type": "code",
   "execution_count": 2,
   "metadata": {},
   "outputs": [],
   "source": [
    "def get_sub_seq():\n",
    "    seq = []\n",
    "    for p5 in \"ACGT\":\n",
    "        for p3 in \"ACGT\":\n",
    "            for x,y in [('C','A'),('C','G'),('C','T'),('T','A'),('T','C'),('T','G')]:\n",
    "                seq.append(f\"{p5}[{x}>{y}]{p3}\")\n",
    "    return seq\n",
    "\n",
    "def deconstruct_sigs(profile):\n",
    "    script1 = \"\"\"\n",
    "library(jsonlite)\n",
    "library(deconstructSigs)\n",
    "s <- data.frame(t(data.frame(sample=c{})))\n",
    "colnames(s) <- c{}\n",
    "w <- whichSignatures(\n",
    "    tumor.ref = s / sum(s),\n",
    "    sample.id = 'sample',\n",
    "    signatures.ref=signatures.cosmic,\n",
    "    signature.cutoff=0.00)\n",
    "toJSON(w)\n",
    "\"\"\"\n",
    "    script2 = script1.format(tuple(profile), tuple(get_sub_seq())).encode(\"utf-8\")\n",
    "\n",
    "    proc = Popen([\"Rscript\", \"-\"], stdin=PIPE, stdout=PIPE, stderr=PIPE)\n",
    "    out, err = proc.communicate(script2, timeout=10)\n",
    "    exitcode = proc.returncode\n",
    "    if exitcode:\n",
    "        print(\"Exit code:\", exitcode, \"Out:\", out.decode(\"utf-8\"), \"Error:\", err.decode(\"utf-8\"), sep=\"\\n\\n\")\n",
    "        raise Exception(\"R error\")\n",
    "    json_string = out.decode(\"utf-8\")\n",
    "    w = json.loads(json_string)\n",
    "    # import pprint\n",
    "    # pprint.pprint(w)\n",
    "    result = []\n",
    "    for k, v in w['weights'][0].items():\n",
    "        if k.startswith('_row'):\n",
    "            continue\n",
    "        # if float(v) == 0.0:\n",
    "        #     continue\n",
    "        name = k.replace('Signature.', '')\n",
    "        result.append({\n",
    "            'name': name,\n",
    "            'score': v})\n",
    "    return result"
   ]
  },
  {
   "cell_type": "code",
   "execution_count": 3,
   "metadata": {},
   "outputs": [
    {
     "data": {
      "text/plain": [
       "[(0, 'samples/benchmark/tcga_brca.maf'),\n",
       " (1, 'samples/benchmark/tcga_dlbc.maf'),\n",
       " (2, 'samples/benchmark/tcga_luad.maf'),\n",
       " (3, 'samples/benchmark/tcga_skcm.maf')]"
      ]
     },
     "execution_count": 3,
     "metadata": {},
     "output_type": "execute_result"
    }
   ],
   "source": [
    "# Find sample files\n",
    "sample_files = glob('samples/benchmark/*.maf')\n",
    "list(enumerate(sample_files))"
   ]
  },
  {
   "cell_type": "code",
   "execution_count": 5,
   "metadata": {},
   "outputs": [
    {
     "name": "stderr",
     "output_type": "stream",
     "text": [
      "                             \r"
     ]
    }
   ],
   "source": [
    "# Get samples from multisample file\n",
    "samples = Sample.multisample(sample_files[0], 'samples/hg38.2bit')"
   ]
  },
  {
   "cell_type": "code",
   "execution_count": null,
   "metadata": {},
   "outputs": [],
   "source": [
    "profs = [s.profile for s in samples]\n",
    "sel_prof = max(samples, key=lambda s: s.profile)\n",
    "samples.index(sel_prof)"
   ]
  },
  {
   "cell_type": "code",
   "execution_count": 17,
   "metadata": {},
   "outputs": [
    {
     "name": "stdout",
     "output_type": "stream",
     "text": [
      "PROFILE\n"
     ]
    },
    {
     "data": {
      "image/png": "[encoded data removed]",
      "text/plain": [
       "<Figure size 432x288 with 1 Axes>"
      ]
     },
     "metadata": {
      "needs_background": "light"
     },
     "output_type": "display_data"
    },
    {
     "name": "stdout",
     "output_type": "stream",
     "text": [
      "MUTATION COUNT: 848.0\n",
      "MUTAGENE DECONSTRUCTION\n",
      "sample\tsignature\texposure\tmutations\texposure_CI_low\texposure_CI_high\tmutations_CI_low\tmutations_CI_high\n",
      "VCF\t1\t0.0284\t24\t0.0256\t0.0311\t22\t26\n",
      "VCF\t2\t0.3433\t291\t0.3372\t0.3494\t286\t296\n",
      "VCF\t7\t0.0448\t38\t0.0408\t0.0488\t35\t41\n",
      "VCF\t9\t0.0205\t17\t0.0172\t0.0238\t15\t20\n",
      "VCF\t10\t0.0297\t25\t0.0265\t0.0328\t23\t28\n",
      "VCF\t13\t0.4146\t352\t0.4067\t0.4224\t345\t358\n",
      "VCF\t17\t0.0153\t13\t0.0133\t0.0172\t11\t15\n",
      "VCF\t18\t0.0085\t7\t0.0064\t0.0106\t5\t9\n",
      "VCF\t21\t0.0049\t4\t0.0035\t0.0063\t3\t5\n",
      "DECONSTRUCTSIGS DECONSTRUCTION\n"
     ]
    },
    {
     "data": {
      "text/plain": [
       "[{'name': '1', 'score': 0.0211},\n",
       " {'name': '2', 'score': 0.3551},\n",
       " {'name': '3', 'score': 0},\n",
       " {'name': '4', 'score': 0.0039},\n",
       " {'name': '5', 'score': 0.1276},\n",
       " {'name': '6', 'score': 0},\n",
       " {'name': '7', 'score': 0.0299},\n",
       " {'name': '8', 'score': 0},\n",
       " {'name': '9', 'score': 0.0067},\n",
       " {'name': '10', 'score': 0.035},\n",
       " {'name': '11', 'score': 0},\n",
       " {'name': '12', 'score': 0},\n",
       " {'name': '13', 'score': 0.3836},\n",
       " {'name': '14', 'score': 0},\n",
       " {'name': '15', 'score': 0},\n",
       " {'name': '16', 'score': 0},\n",
       " {'name': '17', 'score': 0},\n",
       " {'name': '18', 'score': 0.0294},\n",
       " {'name': '19', 'score': 0},\n",
       " {'name': '20', 'score': 0},\n",
       " {'name': '21', 'score': 0},\n",
       " {'name': '22', 'score': 0},\n",
       " {'name': '23', 'score': 0},\n",
       " {'name': '24', 'score': 0.0077},\n",
       " {'name': '25', 'score': 0},\n",
       " {'name': '26', 'score': 0},\n",
       " {'name': '27', 'score': 0},\n",
       " {'name': '28', 'score': 0},\n",
       " {'name': '29', 'score': 0},\n",
       " {'name': '30', 'score': 0}]"
      ]
     },
     "execution_count": 17,
     "metadata": {},
     "output_type": "execute_result"
    }
   ],
   "source": [
    "sample_id = 400\n",
    "print(\"PROFILE\")\n",
    "samples[sample_id].plot_profile()\n",
    "print(\"MUTATION COUNT:\", sum(samples[sample_id].profile))\n",
    "print(\"MUTAGENE DECONSTRUCTION\")\n",
    "Identify(samples[sample_id].profile, 30, bootstrap=True).write_results()\n",
    "print(\"DECONSTRUCTSIGS DECONSTRUCTION\")\n",
    "deconstruct_sigs(samples[sample_id].profile)"
   ]
  }
 ],
 "metadata": {
  "kernelspec": {
   "display_name": "Python 3",
   "language": "python",
   "name": "python3"
  },
  "language_info": {
   "codemirror_mode": {
    "name": "ipython",
    "version": 3
   },
   "file_extension": ".py",
   "mimetype": "text/x-python",
   "name": "python",
   "nbconvert_exporter": "python",
   "pygments_lexer": "ipython3",
   "version": "3.6.8"
  }
 },
 "nbformat": 4,
 "nbformat_minor": 4
}
