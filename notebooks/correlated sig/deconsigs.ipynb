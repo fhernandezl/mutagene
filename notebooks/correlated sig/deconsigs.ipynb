{
 "cells": [
  {
   "cell_type": "code",
   "execution_count": 29,
   "metadata": {},
   "outputs": [],
   "source": [
    "from mutagene.profiles import Sample\n",
    "import json\n",
    "import numpy as np\n",
    "from glob import glob\n",
    "from subprocess import Popen, PIPE"
   ]
  },
  {
   "cell_type": "code",
   "execution_count": 40,
   "metadata": {},
   "outputs": [],
   "source": [
    "def deconstruct_sigs(profile_fname, sample='1'):\n",
    "    script1 = \"\"\"\n",
    "library(jsonlite)\n",
    "library(deconstructSigs)\n",
    "s <- t(read.table('{}', sep=\"\\t\", header=FALSE, row.names=NULL))\n",
    "row.names(s) <- '{}'\n",
    "s <- as.data.frame(s)\n",
    "w <- whichSignatures(s / sum(s), signatures.ref=signatures.cosmic, signature.cutoff=0.00)\n",
    "toJSON(w)\n",
    "\"\"\"\n",
    "    script2 = script1.format(profile_fname, sample).encode(\"utf-8\")\n",
    "\n",
    "    proc = Popen([\"Rscript\", \"-\"], stdin=PIPE, stdout=PIPE, stderr=PIPE)\n",
    "    out, err = proc.communicate(script2, timeout=10)\n",
    "    exitcode = proc.returncode\n",
    "    if exitcode:\n",
    "        print(\"Exit code:\", exitcode, \"Out:\", out.decode(\"utf-8\"), \"Error:\", err.decode(\"utf-8\"), sep=\"\\n\\n\")\n",
    "        raise Exception(\"R error\")\n",
    "    json_string = out.decode(\"utf-8\")\n",
    "    w = json.loads(json_string)\n",
    "    # import pprint\n",
    "    # pprint.pprint(w)\n",
    "    result = []\n",
    "    for k, v in w['weights'][0].items():\n",
    "        if k.startswith('_row'):\n",
    "            continue\n",
    "        # if float(v) == 0.0:\n",
    "        #     continue\n",
    "        name = k.replace('Signature.', '')\n",
    "        result.append({\n",
    "            'name': name,\n",
    "            'score': v})\n",
    "    return result"
   ]
  },
  {
   "cell_type": "code",
   "execution_count": 3,
   "metadata": {},
   "outputs": [
    {
     "data": {
      "text/plain": [
       "[(0, 'samples/brca_bccrc/data_mutations_mskcc.txt'),\n",
       " (1, 'samples/brca_broad/data_mutations_mskcc.txt'),\n",
       " (2, 'samples/brca_metabric/data_mutations_mskcc.txt'),\n",
       " (3, 'samples/brca_mskcc_2019/data_mutations_mskcc.txt'),\n",
       " (4, 'samples/brca_sanger/data_mutations_mskcc.txt'),\n",
       " (5, 'samples/breast_msk_2018/data_mutations_mskcc.txt'),\n",
       " (6, 'samples/luad_broad/data_mutations_mskcc.txt'),\n",
       " (7, 'samples/luad_mskcc_2015/data_mutations_mskcc.txt'),\n",
       " (8, 'samples/luad_tcga/data_mutations_mskcc.txt'),\n",
       " (9, 'samples/luad_tcga_pan_can_atlas_2018/data_mutations_mskcc.txt'),\n",
       " (10, 'samples/luad_tcga_pub/data_mutations_mskcc.txt'),\n",
       " (11, 'samples/luad_tsp/data_mutations_mskcc.txt'),\n",
       " (12, 'samples/skcm_broad/data_mutations_mskcc.txt'),\n",
       " (13, 'samples/skcm_broad_brafresist_2012/data_mutations_mskcc.txt'),\n",
       " (14, 'samples/skcm_yale/data_mutations_mskcc.txt')]"
      ]
     },
     "execution_count": 3,
     "metadata": {},
     "output_type": "execute_result"
    }
   ],
   "source": [
    "# Find sample files\n",
    "sample_files = glob('samples/*/data_mutations_mskcc.txt')\n",
    "list(enumerate(sample_files))"
   ]
  },
  {
   "cell_type": "code",
   "execution_count": 4,
   "metadata": {},
   "outputs": [
    {
     "name": "stderr",
     "output_type": "stream",
     "text": [
      "                              \r"
     ]
    }
   ],
   "source": [
    "# Get samples from multisample file\n",
    "samples = Sample.multisample(sample_files[12], 'samples/hg19.2bit')"
   ]
  },
  {
   "cell_type": "code",
   "execution_count": 5,
   "metadata": {},
   "outputs": [
    {
     "data": {
      "image/png": "[encoded data removed]",
      "text/plain": [
       "<Figure size 432x288 with 1 Axes>"
      ]
     },
     "metadata": {
      "needs_background": "light"
     },
     "output_type": "display_data"
    }
   ],
   "source": [
    "np.savetxt('samp.test', samples[-1].profile, delimiter='\\t')\n",
    "samples[-1].plot_profile()"
   ]
  },
  {
   "cell_type": "code",
   "execution_count": 41,
   "metadata": {},
   "outputs": [
    {
     "name": "stdout",
     "output_type": "stream",
     "text": [
      "Exit code:\n",
      "\n",
      "1\n",
      "\n",
      "Out:\n",
      "\n",
      "\n",
      "\n",
      "Error:\n",
      "\n",
      "Error in whichSignatures(s/sum(s), signatures.ref = signatures.cosmic,  : \n",
      "  Check column names on input file\n",
      "Execution halted\n",
      "\n"
     ]
    },
    {
     "ename": "Exception",
     "evalue": "R error",
     "output_type": "error",
     "traceback": [
      "\u001b[0;31m---------------------------------------------------------------------------\u001b[0m",
      "\u001b[0;31mException\u001b[0m                                 Traceback (most recent call last)",
      "\u001b[0;32m<ipython-input-41-d38470e10798>\u001b[0m in \u001b[0;36m<module>\u001b[0;34m\u001b[0m\n\u001b[0;32m----> 1\u001b[0;31m \u001b[0mdeconstruct_sigs\u001b[0m\u001b[0;34m(\u001b[0m\u001b[0;34m'samp.test'\u001b[0m\u001b[0;34m)\u001b[0m\u001b[0;34m\u001b[0m\u001b[0;34m\u001b[0m\u001b[0m\n\u001b[0m",
      "\u001b[0;32m<ipython-input-40-3c1d1c245bac>\u001b[0m in \u001b[0;36mdeconstruct_sigs\u001b[0;34m(profile_fname, sample)\u001b[0m\n\u001b[1;32m     16\u001b[0m     \u001b[0;32mif\u001b[0m \u001b[0mexitcode\u001b[0m\u001b[0;34m:\u001b[0m\u001b[0;34m\u001b[0m\u001b[0;34m\u001b[0m\u001b[0m\n\u001b[1;32m     17\u001b[0m         \u001b[0mprint\u001b[0m\u001b[0;34m(\u001b[0m\u001b[0;34m\"Exit code:\"\u001b[0m\u001b[0;34m,\u001b[0m \u001b[0mexitcode\u001b[0m\u001b[0;34m,\u001b[0m \u001b[0;34m\"Out:\"\u001b[0m\u001b[0;34m,\u001b[0m \u001b[0mout\u001b[0m\u001b[0;34m.\u001b[0m\u001b[0mdecode\u001b[0m\u001b[0;34m(\u001b[0m\u001b[0;34m\"utf-8\"\u001b[0m\u001b[0;34m)\u001b[0m\u001b[0;34m,\u001b[0m \u001b[0;34m\"Error:\"\u001b[0m\u001b[0;34m,\u001b[0m \u001b[0merr\u001b[0m\u001b[0;34m.\u001b[0m\u001b[0mdecode\u001b[0m\u001b[0;34m(\u001b[0m\u001b[0;34m\"utf-8\"\u001b[0m\u001b[0;34m)\u001b[0m\u001b[0;34m,\u001b[0m \u001b[0msep\u001b[0m\u001b[0;34m=\u001b[0m\u001b[0;34m\"\\n\\n\"\u001b[0m\u001b[0;34m)\u001b[0m\u001b[0;34m\u001b[0m\u001b[0;34m\u001b[0m\u001b[0m\n\u001b[0;32m---> 18\u001b[0;31m         \u001b[0;32mraise\u001b[0m \u001b[0mException\u001b[0m\u001b[0;34m(\u001b[0m\u001b[0;34m\"R error\"\u001b[0m\u001b[0;34m)\u001b[0m\u001b[0;34m\u001b[0m\u001b[0;34m\u001b[0m\u001b[0m\n\u001b[0m\u001b[1;32m     19\u001b[0m     \u001b[0mjson_string\u001b[0m \u001b[0;34m=\u001b[0m \u001b[0mout\u001b[0m\u001b[0;34m.\u001b[0m\u001b[0mdecode\u001b[0m\u001b[0;34m(\u001b[0m\u001b[0;34m\"utf-8\"\u001b[0m\u001b[0;34m)\u001b[0m\u001b[0;34m\u001b[0m\u001b[0;34m\u001b[0m\u001b[0m\n\u001b[1;32m     20\u001b[0m     \u001b[0mw\u001b[0m \u001b[0;34m=\u001b[0m \u001b[0mjson\u001b[0m\u001b[0;34m.\u001b[0m\u001b[0mloads\u001b[0m\u001b[0;34m(\u001b[0m\u001b[0mjson_string\u001b[0m\u001b[0;34m)\u001b[0m\u001b[0;34m\u001b[0m\u001b[0;34m\u001b[0m\u001b[0m\n",
      "\u001b[0;31mException\u001b[0m: R error"
     ]
    }
   ],
   "source": [
    "deconstruct_sigs('samp.test')"
   ]
  }
 ],
 "metadata": {
  "kernelspec": {
   "display_name": "Python 3",
   "language": "python",
   "name": "python3"
  },
  "language_info": {
   "codemirror_mode": {
    "name": "ipython",
    "version": 3
   },
   "file_extension": ".py",
   "mimetype": "text/x-python",
   "name": "python",
   "nbconvert_exporter": "python",
   "pygments_lexer": "ipython3",
   "version": "3.6.8"
  }
 },
 "nbformat": 4,
 "nbformat_minor": 4
}
