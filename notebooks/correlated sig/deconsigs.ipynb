{
 "cells": [
  {
   "cell_type": "code",
   "execution_count": 52,
   "metadata": {},
   "outputs": [],
   "source": [
    "from mutagene.profiles import Sample\n",
    "from mutagene.signatures import Identify\n",
    "import json\n",
    "import numpy as np\n",
    "from glob import glob\n",
    "from subprocess import Popen, PIPE"
   ]
  },
  {
   "cell_type": "code",
   "execution_count": 43,
   "metadata": {},
   "outputs": [],
   "source": [
    "def get_sub_seq():\n",
    "    seq = []\n",
    "    for p5 in \"ACGT\":\n",
    "        for p3 in \"ACGT\":\n",
    "            for x,y in [('C','A'),('C','G'),('C','T'),('T','A'),('T','C'),('T','G')]:\n",
    "                seq.append(f\"{p5}[{x}>{y}]{p3}\")\n",
    "    return seq\n",
    "\n",
    "def deconstruct_sigs(profile):\n",
    "    script1 = \"\"\"\n",
    "library(jsonlite)\n",
    "library(deconstructSigs)\n",
    "s <- data.frame(t(data.frame(sample=c{})))\n",
    "colnames(s) <- c{}\n",
    "w <- whichSignatures(\n",
    "    tumor.ref = s / sum(s),\n",
    "    sample.id = 'sample',\n",
    "    signatures.ref=signatures.cosmic,\n",
    "    signature.cutoff=0.00)\n",
    "toJSON(w)\n",
    "\"\"\"\n",
    "    script2 = script1.format(tuple(profile), tuple(get_sub_seq())).encode(\"utf-8\")\n",
    "\n",
    "    proc = Popen([\"Rscript\", \"-\"], stdin=PIPE, stdout=PIPE, stderr=PIPE)\n",
    "    out, err = proc.communicate(script2, timeout=10)\n",
    "    exitcode = proc.returncode\n",
    "    if exitcode:\n",
    "        print(\"Exit code:\", exitcode, \"Out:\", out.decode(\"utf-8\"), \"Error:\", err.decode(\"utf-8\"), sep=\"\\n\\n\")\n",
    "        raise Exception(\"R error\")\n",
    "    json_string = out.decode(\"utf-8\")\n",
    "    w = json.loads(json_string)\n",
    "    # import pprint\n",
    "    # pprint.pprint(w)\n",
    "    result = []\n",
    "    for k, v in w['weights'][0].items():\n",
    "        if k.startswith('_row'):\n",
    "            continue\n",
    "        # if float(v) == 0.0:\n",
    "        #     continue\n",
    "        name = k.replace('Signature.', '')\n",
    "        result.append({\n",
    "            'name': name,\n",
    "            'score': v})\n",
    "    return result"
   ]
  },
  {
   "cell_type": "code",
   "execution_count": 23,
   "metadata": {},
   "outputs": [
    {
     "data": {
      "text/plain": [
       "[(0, 'samples/brca_bccrc/data_mutations_mskcc.txt'),\n",
       " (1, 'samples/brca_broad/data_mutations_mskcc.txt'),\n",
       " (2, 'samples/brca_metabric/data_mutations_mskcc.txt'),\n",
       " (3, 'samples/brca_mskcc_2019/data_mutations_mskcc.txt'),\n",
       " (4, 'samples/brca_sanger/data_mutations_mskcc.txt'),\n",
       " (5, 'samples/breast_msk_2018/data_mutations_mskcc.txt'),\n",
       " (6, 'samples/luad_broad/data_mutations_mskcc.txt'),\n",
       " (7, 'samples/luad_mskcc_2015/data_mutations_mskcc.txt'),\n",
       " (8, 'samples/luad_tcga/data_mutations_mskcc.txt'),\n",
       " (9, 'samples/luad_tcga_pan_can_atlas_2018/data_mutations_mskcc.txt'),\n",
       " (10, 'samples/luad_tcga_pub/data_mutations_mskcc.txt'),\n",
       " (11, 'samples/luad_tsp/data_mutations_mskcc.txt'),\n",
       " (12, 'samples/skcm_broad/data_mutations_mskcc.txt'),\n",
       " (13, 'samples/skcm_broad_brafresist_2012/data_mutations_mskcc.txt'),\n",
       " (14, 'samples/skcm_yale/data_mutations_mskcc.txt')]"
      ]
     },
     "execution_count": 23,
     "metadata": {},
     "output_type": "execute_result"
    }
   ],
   "source": [
    "# Find sample files\n",
    "sample_files = glob('samples/*/data_mutations_mskcc.txt')\n",
    "list(enumerate(sample_files))"
   ]
  },
  {
   "cell_type": "code",
   "execution_count": 101,
   "metadata": {},
   "outputs": [
    {
     "name": "stderr",
     "output_type": "stream",
     "text": [
      "REF allele does not match the genomic sequence in chr12:57643037 G!=C. Multiple errors could mean wrong genome assembly choice\n",
      "REF allele does not match the genomic sequence in chr12:133244235 G!=C. Multiple errors could mean wrong genome assembly choice\n",
      "REF allele does not match the genomic sequence in chr12:133245392 G!=C. Multiple errors could mean wrong genome assembly choice\n"
     ]
    }
   ],
   "source": [
    "# Get samples from multisample file\n",
    "samples = Sample.multisample(sample_files[4], 'samples/hg19.2bit')"
   ]
  },
  {
   "cell_type": "code",
   "execution_count": 105,
   "metadata": {},
   "outputs": [
    {
     "data": {
      "image/png": "[encoded data removed]",
      "text/plain": [
       "<Figure size 432x288 with 1 Axes>"
      ]
     },
     "metadata": {
      "needs_background": "light"
     },
     "output_type": "display_data"
    },
    {
     "name": "stdout",
     "output_type": "stream",
     "text": [
      "sample\tsignature\texposure\tmutations\texposure_CI_low\texposure_CI_high\tmutations_CI_low\tmutations_CI_high\n",
      "VCF\t1\t0.0666\t12\t0.0563\t0.0769\t10\t14\n",
      "VCF\t2\t0.1389\t25\t0.1278\t0.1500\t23\t27\n",
      "VCF\t4\t0.0437\t8\t0.0355\t0.0520\t6\t9\n",
      "VCF\t7\t0.0523\t9\t0.0435\t0.0611\t8\t11\n",
      "VCF\t8\t0.0103\t2\t0.0063\t0.0143\t1\t3\n",
      "VCF\t10\t0.0668\t12\t0.0588\t0.0749\t11\t14\n",
      "VCF\t13\t0.3868\t70\t0.3775\t0.3961\t68\t71\n",
      "VCF\t15\t0.0171\t3\t0.0129\t0.0213\t2\t4\n",
      "VCF\t18\t0.0245\t4\t0.0185\t0.0304\t3\t6\n",
      "VCF\t30\t0.0116\t2\t0.0065\t0.0168\t1\t3\n"
     ]
    },
    {
     "data": {
      "text/plain": [
       "[{'name': '1', 'score': 0.1486},\n",
       " {'name': '2', 'score': 0.0955},\n",
       " {'name': '3', 'score': 0.0358},\n",
       " {'name': '4', 'score': 0.1194},\n",
       " {'name': '5', 'score': 0},\n",
       " {'name': '6', 'score': 0},\n",
       " {'name': '7', 'score': 0.0376},\n",
       " {'name': '8', 'score': 0},\n",
       " {'name': '9', 'score': 0},\n",
       " {'name': '10', 'score': 0.0931},\n",
       " {'name': '11', 'score': 0.0563},\n",
       " {'name': '12', 'score': 0},\n",
       " {'name': '13', 'score': 0.4137},\n",
       " {'name': '14', 'score': 0},\n",
       " {'name': '15', 'score': 0},\n",
       " {'name': '16', 'score': 0},\n",
       " {'name': '17', 'score': 0},\n",
       " {'name': '18', 'score': 0},\n",
       " {'name': '19', 'score': 0},\n",
       " {'name': '20', 'score': 0},\n",
       " {'name': '21', 'score': 0},\n",
       " {'name': '22', 'score': 0},\n",
       " {'name': '23', 'score': 0},\n",
       " {'name': '24', 'score': 0},\n",
       " {'name': '25', 'score': 0},\n",
       " {'name': '26', 'score': 0},\n",
       " {'name': '27', 'score': 0},\n",
       " {'name': '28', 'score': 0},\n",
       " {'name': '29', 'score': 0},\n",
       " {'name': '30', 'score': 0}]"
      ]
     },
     "execution_count": 105,
     "metadata": {},
     "output_type": "execute_result"
    }
   ],
   "source": [
    "sample_id = 30\n",
    "samples[sample_id].plot_profile()\n",
    "Identify(samples[sample_id].profile, 30, bootstrap=True).write_results()\n",
    "deconstruct_sigs(samples[sample_id].profile)"
   ]
  }
 ],
 "metadata": {
  "kernelspec": {
   "display_name": "Python 3",
   "language": "python",
   "name": "python3"
  },
  "language_info": {
   "codemirror_mode": {
    "name": "ipython",
    "version": 3
   },
   "file_extension": ".py",
   "mimetype": "text/x-python",
   "name": "python",
   "nbconvert_exporter": "python",
   "pygments_lexer": "ipython3",
   "version": "3.6.8"
  }
 },
 "nbformat": 4,
 "nbformat_minor": 4
}
